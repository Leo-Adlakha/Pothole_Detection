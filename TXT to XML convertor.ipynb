{
 "cells": [
  {
   "cell_type": "code",
   "execution_count": 10,
   "metadata": {},
   "outputs": [],
   "source": [
    "from lxml import etree \n",
    "from PIL import Image \n",
    "import csv \n",
    "import os"
   ]
  },
  {
   "cell_type": "code",
   "execution_count": 11,
   "metadata": {},
   "outputs": [],
   "source": [
    "# fw is txt file that composed train image file path\n",
    "\n",
    "IMG_PATH = \"/Users/leoadlakha/Desktop/Pothole_Detection/darkflow-master/Dataset\" \n",
    "fw = os.listdir(IMG_PATH)"
   ]
  },
  {
   "cell_type": "code",
   "execution_count": 12,
   "metadata": {},
   "outputs": [],
   "source": [
    "# path of save xml file \n",
    "save_path = \"/Users/leoadlakha/Desktop/Pothole_Detection/darkflow-master/annotations\""
   ]
  },
  {
   "cell_type": "code",
   "execution_count": 13,
   "metadata": {},
   "outputs": [],
   "source": [
    "# txt_folder is txt file root that using darknet rectbox \n",
    "txt_folder = \"/Users/leoadlakha/Desktop/Pothole_Detection/darkflow-master/Annotations\"\n",
    "\n",
    "# edit your label set \n",
    "labels = ['Pothole']"
   ]
  },
  {
   "cell_type": "code",
   "execution_count": 14,
   "metadata": {},
   "outputs": [],
   "source": [
    "def csvread(fn): \n",
    "    with open(fn, 'r') as csvfile: \n",
    "        list_arr = [] \n",
    "        reader = csv.reader(csvfile, delimiter=' ') \n",
    "        for row in reader: \n",
    "            list_arr.append(row) \n",
    "    return list_arr"
   ]
  },
  {
   "cell_type": "code",
   "execution_count": 15,
   "metadata": {},
   "outputs": [],
   "source": [
    "def convert_label(txt_file): \n",
    "    if((txt_file[0]) == str(0)): \n",
    "        label = 'Pothole' \n",
    "    return label"
   ]
  },
  {
   "cell_type": "code",
   "execution_count": 16,
   "metadata": {},
   "outputs": [],
   "source": [
    "def extract_coor(txt_file, img_width, img_height): \n",
    "    x_rect_mid = float(txt_file[1]) \n",
    "    y_rect_mid = float(txt_file[2]) \n",
    "    width_rect = float(txt_file[3]) \n",
    "    height_rect = float(txt_file[4]) \n",
    "    x_min_rect = ((2 * x_rect_mid * img_width) - (width_rect * img_width)) / 2 \n",
    "    x_max_rect = ((2 * x_rect_mid * img_width) + (width_rect * img_width)) / 2 \n",
    "    y_min_rect = ((2 * y_rect_mid * img_height) - (height_rect * img_height)) / 2 \n",
    "    y_max_rect = ((2 * y_rect_mid * img_height) + (height_rect * img_height)) / 2 \n",
    "    return x_min_rect, x_max_rect, y_min_rect, y_max_rect"
   ]
  },
  {
   "cell_type": "code",
   "execution_count": 17,
   "metadata": {},
   "outputs": [],
   "source": [
    "for line in fw: \n",
    "    root = etree.Element(\"annotation\") \n",
    "    # try debug to check your path \n",
    "    img_style = IMG_PATH.split('/')[-1] \n",
    "    img_name = line \n",
    "    image_info = IMG_PATH + \"/\" + line \n",
    "    img_txt_root = txt_folder + \"/\" + line[:-4] \n",
    "    txt = \".txt\" \n",
    "    txt_path = img_txt_root + txt \n",
    "    txt_file = csvread(txt_path) \n",
    "    \n",
    "    ######################################\n",
    "    # read the image information \n",
    "    img_size = Image.open(image_info).size \n",
    "    img_width = img_size[0] \n",
    "    img_height = img_size[1] \n",
    "    \n",
    "    ###################################### \n",
    "    folder = etree.Element(\"folder\") \n",
    "    folder.text = \"%s\" % (img_style) \n",
    "    filename = etree.Element(\"filename\") \n",
    "    filename.text = \"%s\" % (img_name) \n",
    "    path = etree.Element(\"path\") \n",
    "    path.text = \"%s\" % (IMG_PATH) \n",
    "    source = etree.Element(\"source\") \n",
    "    \n",
    "    ##################source - element################## \n",
    "    source_database = etree.SubElement(source, \"database\") \n",
    "    source_database.text = \"Unknown\" \n",
    "    #################################################### \n",
    "    \n",
    "    size = etree.Element(\"size\") \n",
    "    ####################size - element################## \n",
    "    image_width = etree.SubElement(size, \"width\") \n",
    "    image_width.text = \"%d\" % (img_width) \n",
    "    image_height = etree.SubElement(size, \"height\") \n",
    "    image_height.text = \"%d\" % (img_height) \n",
    "    #################################################### \n",
    "    segmented = etree.Element(\"segmented\") \n",
    "    segmented.text = \"0\" \n",
    "    root.append(folder) \n",
    "    root.append(filename) \n",
    "    root.append(path) \n",
    "    root.append(source) \n",
    "    root.append(size) \n",
    "    root.append(segmented) \n",
    "    for ii in range(len(txt_file)): \n",
    "        label = convert_label(txt_file[ii][0]) \n",
    "        x_min_rect, x_max_rect, y_min_rect, y_max_rect = extract_coor( txt_file[ii], img_width, img_height) \n",
    "        object = etree.Element(\"object\") \n",
    "        ####################object - element################## \n",
    "        name = etree.SubElement(object, \"name\") \n",
    "        name.text = \"%s\" % (label) \n",
    "        pose = etree.SubElement(object, \"pose\") \n",
    "        pose.text = \"Unspecified\" \n",
    "        truncated = etree.SubElement(object, \"truncated\") \n",
    "        truncated.text = \"0\" \n",
    "        difficult = etree.SubElement(object, \"difficult\") \n",
    "        difficult.text = \"0\" \n",
    "        bndbox = etree.SubElement(object, \"bndbox\") \n",
    "        #####sub_sub######## \n",
    "        xmin = etree.SubElement(bndbox, \"xmin\") \n",
    "        xmin.text = \"%d\" % (x_min_rect) \n",
    "        ymin = etree.SubElement(bndbox, \"ymin\") \n",
    "        ymin.text = \"%d\" % (y_min_rect) \n",
    "        xmax = etree.SubElement(bndbox, \"xmax\") \n",
    "        xmax.text = \"%d\" % (x_max_rect) \n",
    "        ymax = etree.SubElement(bndbox, \"ymax\") \n",
    "        ymax.text = \"%d\" % (y_max_rect) \n",
    "        #####sub_sub######## \n",
    "        root.append(object) \n",
    "        ####################################################\n",
    "    file_output = etree.tostring(root, pretty_print=True, encoding='UTF-8') \n",
    "    # print(file_output.decode('utf-8')) \n",
    "    ff = open('%s%s.xml' % (save_path, img_name[:-4]), 'w', encoding=\"utf-8\") \n",
    "    ff.write(file_output.decode('utf-8'))\n",
    "\n"
   ]
  },
  {
   "cell_type": "code",
   "execution_count": null,
   "metadata": {},
   "outputs": [],
   "source": []
  }
 ],
 "metadata": {
  "kernelspec": {
   "display_name": "Python 3",
   "language": "python",
   "name": "python3"
  },
  "language_info": {
   "codemirror_mode": {
    "name": "ipython",
    "version": 3
   },
   "file_extension": ".py",
   "mimetype": "text/x-python",
   "name": "python",
   "nbconvert_exporter": "python",
   "pygments_lexer": "ipython3",
   "version": "3.7.4"
  }
 },
 "nbformat": 4,
 "nbformat_minor": 2
}
